{
 "cells": [
  {
   "cell_type": "markdown",
   "id": "1aadd5fd-423e-42f3-ac69-ae39668bdc58",
   "metadata": {},
   "source": [
    "# Datascience notebook"
   ]
  },
  {
   "cell_type": "markdown",
   "id": "28674dc1-6b01-4f0b-a99c-11415850a291",
   "metadata": {},
   "source": [
    "## introduction "
   ]
  },
  {
   "cell_type": "markdown",
   "id": "12beb1ec-da15-4567-8537-ccb3af17f0da",
   "metadata": {},
   "source": [
    " ## Data Science Languages\n",
    "\n",
    "- Python\n",
    "- R\n",
    "- Julia\n",
    "- SQL\n",
    "- Scala\n"
   ]
  },
  {
   "cell_type": "markdown",
   "id": "98a16112-6b65-4561-bde4-7f8cb684ea05",
   "metadata": {},
   "source": [
    "## Data Science Libraries\n",
    "\n",
    "- NumPy\n",
    "- Pandas\n",
    "- Matplotlib\n",
    "- Scikit-Learn\n",
    "- TensorFlow\n",
    "- PyTorch\n"
   ]
  },
  {
   "cell_type": "markdown",
   "id": "8a9e9c26-d497-4f7c-82e7-6f24b5eccf0a",
   "metadata": {},
   "source": [
    "## Datascience tools\n",
    "\n",
    "|Tools               | Purpose                   |\n",
    "|--------------------|---------------------------|\n",
    "| Jupyter Notebook | Interactive coding environment |\n",
    "| RStudio        | R programming IDE             |\n",
    "| Apache Spark   | Big Data Processing           |\n",
    "| TensorFlow     | Machine Learning Framework    |\n",
    "| Power BI       | Data Visualization            |\n",
    "\n"
   ]
  },
  {
   "cell_type": "markdown",
   "id": "caf287ac-b597-49f2-9b54-b02ce7f2d405",
   "metadata": {},
   "source": [
    "## Arithmetic Expressions Examples\n",
    "\n",
    "Arithmetic expressions are used for mathematical operations such as addition, multiplication, and division.\n"
   ]
  },
  {
   "cell_type": "markdown",
   "id": "df85505f-60fc-4082-9369-c6826741ffa4",
   "metadata": {},
   "source": [
    "# Multiply and add numbers\n",
    "result = (5 * 3) + 10\n",
    "print(\"The result is:\", result)\n"
   ]
  },
  {
   "cell_type": "markdown",
   "id": "bd20563f-40a0-4a97-adfc-3bdf935e5f1b",
   "metadata": {},
   "source": [
    " # Convert minutes to hours\n",
    "minutes = 120\n",
    "hours = minutes / 60\n",
    "print(f\"{minutes} minutes is equal to {hours} hours.\")\n"
   ]
  },
  {
   "cell_type": "markdown",
   "id": "3acbb1d9-516d-4f1e-b1e1-16f5cdeb6bfe",
   "metadata": {},
   "source": [
    "## Objectives\n",
    "\n",
    "- Understand data science languages.\n",
    "- Explore common data science libraries.\n",
    "- Learn about data science tools.\n",
    "- Perform basic arithmetic operations.\n",
    "- Convert time units using Python.\n"
   ]
  },
  {
   "cell_type": "markdown",
   "id": "a18d7889-a818-4213-b4c6-da039d0ad3b8",
   "metadata": {},
   "source": [
    "## Author\n",
    "\n",
    "**SHERIFF**\n"
   ]
  },
  {
   "cell_type": "code",
   "execution_count": null,
   "id": "20a60ce3-3497-4360-9a81-6ed0eb4ee825",
   "metadata": {},
   "outputs": [],
   "source": []
  }
 ],
 "metadata": {
  "kernelspec": {
   "display_name": "Python 3 (ipykernel)",
   "language": "python",
   "name": "python3"
  },
  "language_info": {
   "codemirror_mode": {
    "name": "ipython",
    "version": 3
   },
   "file_extension": ".py",
   "mimetype": "text/x-python",
   "name": "python",
   "nbconvert_exporter": "python",
   "pygments_lexer": "ipython3",
   "version": "3.12.7"
  }
 },
 "nbformat": 4,
 "nbformat_minor": 5
}
