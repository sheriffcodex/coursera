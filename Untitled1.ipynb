{
 "cells": [
  {
   "cell_type": "markdown",
   "id": "88efb4a7-eff3-46e1-ae20-1bfdf13ddc4a",
   "metadata": {},
   "source": [
    "# Data science tool and ecosystem\n"
   ]
  },
  {
   "cell_type": "markdown",
   "id": "91b1ec96-63f4-42ed-9dfb-1f98a8623ca8",
   "metadata": {},
   "source": [
    "# Introduction"
   ]
  },
  {
   "cell_type": "markdown",
   "id": "b9406857-d1a4-4123-80c0-3e4668ba49ab",
   "metadata": {},
   "source": [
    "## Data  science language\n",
    "some of the commonly used languages for data science includes;\n",
    "\n",
    "-Python\n",
    "-R\n",
    "-SQL\n",
    "-Julia\n",
    "-Scala \n"
   ]
  },
  {
   "cell_type": "markdown",
   "id": "19ff81dc-f107-4201-b079-791f0dc4a6fc",
   "metadata": {},
   "source": [
    "## Data science libraries \n",
    "Popular libraries used in Data science include;\n",
    "\n",
    "-Pandas\n",
    "-Numpy\n",
    "-Matplotlib\n",
    "-Scikit-learn\n",
    "-TensorFlow\n",
    "-Keras"
   ]
  },
  {
   "cell_type": "markdown",
   "id": "7512f744-e500-411a-817e-791e46943a7c",
   "metadata": {},
   "source": [
    "## Data Science Tools  \n",
    "\n",
    "| Tool          | Description |\n",
    "|--------------|------------|\n",
    "| Jupyter Notebook | Interactive environment for coding and visualization |\n",
    "| RStudio      | IDE for R programming |\n",
    "| TensorFlow   | Machine learning framework |\n",
    "| Apache Spark | Big Data processing framework |\n",
    "| Tableau      | Data visualization software |\n"
   ]
  },
  {
   "cell_type": "markdown",
   "id": "0a4cfaa3-8d0d-416a-ab16-eacf7338b918",
   "metadata": {},
   "source": [
    "## Arithmetic Expression Examples  \n"
   ]
  },
  {
   "cell_type": "code",
   "execution_count": 24,
   "id": "63d44f0b-a16a-4c7a-9a9e-de9282ff6412",
   "metadata": {},
   "outputs": [
    {
     "data": {
      "text/plain": [
       "17"
      ]
     },
     "execution_count": 24,
     "metadata": {},
     "output_type": "execute_result"
    }
   ],
   "source": [
    "# Multiply and add numbers\n",
    "result = (5 * 3) + 2\n",
    "result\n"
   ]
  },
  {
   "cell_type": "code",
   "execution_count": 26,
   "id": "2fbf3a0f-ce9c-411b-8645-d968414ff532",
   "metadata": {},
   "outputs": [
    {
     "data": {
      "text/plain": [
       "2.0"
      ]
     },
     "execution_count": 26,
     "metadata": {},
     "output_type": "execute_result"
    }
   ],
   "source": [
    "# Convert minutes to hours\n",
    "minutes = 120\n",
    "hours = minutes / 60\n",
    "hours\n"
   ]
  },
  {
   "cell_type": "markdown",
   "id": "fae8db1c-c040-4680-9126-29e3ce49e36f",
   "metadata": {},
   "source": [
    "## Objectives  \n",
    "- List popular Data Science languages  \n",
    "- List commonly used Data Science libraries  \n",
    "- Show a table of Data Science tools  \n",
    "- Perform arithmetic operations  \n",
    "- Convert minutes to hours  \n"
   ]
  },
  {
   "cell_type": "markdown",
   "id": "4b3c0ea6-bd73-401d-81a2-388a604deb87",
   "metadata": {},
   "source": [
    "## Author  \n",
    "John Doe  \n"
   ]
  },
  {
   "cell_type": "code",
   "execution_count": null,
   "id": "560b1ecf-100e-47fa-b21e-f89a0d083599",
   "metadata": {},
   "outputs": [],
   "source": []
  }
 ],
 "metadata": {
  "kernelspec": {
   "display_name": "Python 3 (ipykernel)",
   "language": "python",
   "name": "python3"
  },
  "language_info": {
   "codemirror_mode": {
    "name": "ipython",
    "version": 3
   },
   "file_extension": ".py",
   "mimetype": "text/x-python",
   "name": "python",
   "nbconvert_exporter": "python",
   "pygments_lexer": "ipython3",
   "version": "3.12.7"
  }
 },
 "nbformat": 4,
 "nbformat_minor": 5
}
